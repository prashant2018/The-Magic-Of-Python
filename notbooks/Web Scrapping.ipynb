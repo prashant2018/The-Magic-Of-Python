{
 "metadata": {
  "name": ""
 },
 "nbformat": 3,
 "nbformat_minor": 0,
 "worksheets": [
  {
   "cells": [
    {
     "cell_type": "code",
     "collapsed": false,
     "input": [
      "import requests\n",
      "import bs4\n",
      "\n",
      "#Step 1 : Fetch the web page\n",
      "url = \"http://www.imdb.com/search/title?release_date=2016&sort=user_rating,desc&ref_=adv_nxt\"\n",
      "r = requests.get(url)"
     ],
     "language": "python",
     "metadata": {},
     "outputs": [],
     "prompt_number": 1
    },
    {
     "cell_type": "code",
     "collapsed": false,
     "input": [
      "#Step 2: Create BeautifulSoup object\n",
      "rsoup = bs4.BeautifulSoup(r.text,from_encoding='utf-8')"
     ],
     "language": "python",
     "metadata": {},
     "outputs": [],
     "prompt_number": 2
    },
    {
     "cell_type": "code",
     "collapsed": false,
     "input": [
      "#Step 3: Select items from the page using beautifulSoup object\n",
      "title_class = \".lister-item-header\"\n",
      "titles_list = rsoup.select(title_class)\n",
      "#each item in the titles_list is an object"
     ],
     "language": "python",
     "metadata": {},
     "outputs": [],
     "prompt_number": 3
    },
    {
     "cell_type": "code",
     "collapsed": false,
     "input": [
      "#Step 4: Get the information from the selected list\n",
      "titles = []\n",
      "for title in titles_list:\n",
      "    t = title.find('a').getText()\n",
      "    titles.append(t)"
     ],
     "language": "python",
     "metadata": {},
     "outputs": [],
     "prompt_number": 4
    },
    {
     "cell_type": "code",
     "collapsed": false,
     "input": [
      "#Step 5: Print the titles\n",
      "print len(titles)"
     ],
     "language": "python",
     "metadata": {},
     "outputs": [
      {
       "output_type": "stream",
       "stream": "stdout",
       "text": [
        "50\n"
       ]
      }
     ],
     "prompt_number": 6
    },
    {
     "cell_type": "code",
     "collapsed": false,
     "input": [],
     "language": "python",
     "metadata": {},
     "outputs": []
    }
   ],
   "metadata": {}
  }
 ]
}