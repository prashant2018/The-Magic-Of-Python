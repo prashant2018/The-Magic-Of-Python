{
 "metadata": {
  "name": ""
 },
 "nbformat": 3,
 "nbformat_minor": 0,
 "worksheets": [
  {
   "cells": [
    {
     "cell_type": "heading",
     "level": 3,
     "metadata": {},
     "source": [
      "Fetching Data"
     ]
    },
    {
     "cell_type": "heading",
     "level": 4,
     "metadata": {},
     "source": [
      "Installing requests :\n"
     ]
    },
    {
     "cell_type": "raw",
     "metadata": {},
     "source": [
      "# sudo pip install requests"
     ]
    },
    {
     "cell_type": "code",
     "collapsed": false,
     "input": [
      "'''\n",
      "We will download some files from internet using requests module\n",
      "'''"
     ],
     "language": "python",
     "metadata": {},
     "outputs": []
    },
    {
     "cell_type": "code",
     "collapsed": false,
     "input": [
      "import requests\n",
      "\n",
      "#get the data\n",
      "url = 'https://www.openssh.com/txt/rfc1928.txt'\n",
      "r = requests.get(url)\n",
      "r.status_code"
     ],
     "language": "python",
     "metadata": {},
     "outputs": []
    },
    {
     "cell_type": "code",
     "collapsed": false,
     "input": [
      "r.encoding = 'utf-8'"
     ],
     "language": "python",
     "metadata": {},
     "outputs": []
    },
    {
     "cell_type": "code",
     "collapsed": false,
     "input": [
      "#open file to write\n",
      "f = open('story.txt','w')\n",
      "f.write(r.text)\n",
      "f.close()"
     ],
     "language": "python",
     "metadata": {},
     "outputs": []
    },
    {
     "cell_type": "heading",
     "level": 3,
     "metadata": {},
     "source": [
      "Downloading large files"
     ]
    },
    {
     "cell_type": "code",
     "collapsed": false,
     "input": [
      "song_url = 'http://dl2.yoyodesi.com/sd.yoyodesi.com/128/479068/Shape of You - Ed Sheeran (DJJOhAL.Com).mp3'\n",
      "r = requests.get(song_url,stream=True)\n",
      "with open('song.mp3','wb') as f:\n",
      "    #iter_content is a method which makes a temp buffer and writes it into file in a chunk\n",
      "    for chunks in r.iter_content(100000):\n",
      "        f.write(chunks)"
     ],
     "language": "python",
     "metadata": {},
     "outputs": []
    },
    {
     "cell_type": "heading",
     "level": 3,
     "metadata": {},
     "source": [
      "Json API"
     ]
    },
    {
     "cell_type": "code",
     "collapsed": false,
     "input": [
      "import json\n",
      "api_endpoint = 'http://www.omdbapi.com/?t='\n",
      "name = 'now you see me'\n",
      "\n",
      "url = api_endpoint+name\n",
      "\n",
      "r = requests.get(url)\n",
      "#converts string to json(here dictionary)\n",
      "j = json.loads(r.text)"
     ],
     "language": "python",
     "metadata": {},
     "outputs": []
    },
    {
     "cell_type": "code",
     "collapsed": false,
     "input": [
      "# request object can be converted to json by using json method i.e r.json()\n",
      "js = r.json()"
     ],
     "language": "python",
     "metadata": {},
     "outputs": []
    },
    {
     "cell_type": "code",
     "collapsed": false,
     "input": [
      "print j['imdbRating'],j['Plot']"
     ],
     "language": "python",
     "metadata": {},
     "outputs": []
    },
    {
     "cell_type": "code",
     "collapsed": false,
     "input": [],
     "language": "python",
     "metadata": {},
     "outputs": []
    }
   ],
   "metadata": {}
  }
 ]
}