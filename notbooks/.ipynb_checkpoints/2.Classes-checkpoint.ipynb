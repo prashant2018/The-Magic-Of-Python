{
 "metadata": {
  "name": ""
 },
 "nbformat": 3,
 "nbformat_minor": 0,
 "worksheets": [
  {
   "cells": [
    {
     "cell_type": "heading",
     "level": 1,
     "metadata": {},
     "source": [
      "Classes"
     ]
    },
    {
     "cell_type": "code",
     "collapsed": false,
     "input": [
      "class Human(object):\n",
      "    '''\n",
      "    Human with hair color\n",
      "    '''\n",
      "    def __init__(self):\n",
      "        self.hair = \"Orange\" #public class variable\n",
      "        self.__age = 21 #private class variable\n",
      "    \n",
      "    def showHair(self):\n",
      "        print \"Your hair is \",self.hair\n",
      "        print \"Your age is \",self.__age\n",
      "    \n",
      "    def changeHair(self,new_color):\n",
      "        self.hair = new_color\n",
      "        self.showHair() # call methods from within the classes\n",
      "    \n",
      "    def showOff(self):\n",
      "        print \"I am from Human class\"\n",
      "        \n",
      "human = Human()\n",
      "human.showHair()\n",
      "#change hair color and age\n",
      "#notice - changing age does not affects the output as it is private member\n",
      "human.__age = 34\n",
      "human.changeHair('Black')"
     ],
     "language": "python",
     "metadata": {},
     "outputs": [
      {
       "output_type": "stream",
       "stream": "stdout",
       "text": [
        "Your hair is  Orange\n",
        "Your age is  21\n",
        "Your hair is  Black\n",
        "Your age is  21\n"
       ]
      }
     ],
     "prompt_number": 48
    },
    {
     "cell_type": "heading",
     "level": 2,
     "metadata": {},
     "source": [
      "Inheritance"
     ]
    },
    {
     "cell_type": "code",
     "collapsed": false,
     "input": [
      "class Woman(Human):\n",
      "    def __init__(self):\n",
      "        super(Woman,self).__init__()\n",
      "        self.showOff()\n",
      "        print self.hair\n",
      "        \n",
      "woman = Woman()"
     ],
     "language": "python",
     "metadata": {},
     "outputs": [
      {
       "output_type": "stream",
       "stream": "stdout",
       "text": [
        "I am from Human class\n",
        "Orange\n"
       ]
      }
     ],
     "prompt_number": 50
    },
    {
     "cell_type": "heading",
     "level": 2,
     "metadata": {},
     "source": [
      "Modules"
     ]
    },
    {
     "cell_type": "code",
     "collapsed": false,
     "input": [],
     "language": "python",
     "metadata": {},
     "outputs": []
    }
   ],
   "metadata": {}
  }
 ]
}